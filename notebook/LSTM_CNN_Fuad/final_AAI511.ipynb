{
 "cells": [
  {
   "cell_type": "markdown",
   "id": "5ac7b0fd",
   "metadata": {},
   "source": [
    "### Final Project"
   ]
  },
  {
   "cell_type": "code",
   "execution_count": 78,
   "id": "cdc22529",
   "metadata": {},
   "outputs": [
    {
     "name": "stdout",
     "output_type": "stream",
     "text": [
      "Setup complete\n"
     ]
    }
   ],
   "source": [
    "# Step 1: Setup and Library Imports\n",
    "\n",
    "import os\n",
    "import numpy as np\n",
    "import pandas as pd\n",
    "from tqdm import tqdm\n",
    "import matplotlib.pyplot as plt\n",
    "\n",
    "# MIDI processing\n",
    "import pretty_midi\n",
    "\n",
    "# Deep Learning\n",
    "import tensorflow as tf\n",
    "from tensorflow.keras.models import Model, Sequential\n",
    "from tensorflow.keras.layers import LSTM, Dense, Conv1D, MaxPooling1D, Flatten, Dropout, Input, BatchNormalization\n",
    "from tensorflow.keras.callbacks import ModelCheckpoint, EarlyStopping\n",
    "from sklearn.preprocessing import LabelEncoder\n",
    "from sklearn.metrics import classification_report, confusion_matrix\n",
    "\n",
    "# File paths\n",
    "DATASET_PATH = \"./NN_midi_files_extended\"  # Update this if you move the dataset\n",
    "TRAIN_DIR = os.path.join(DATASET_PATH, \"train\")\n",
    "TEST_DIR = os.path.join(DATASET_PATH, \"test\")\n",
    "DEV_DIR = os.path.join(DATASET_PATH, \"dev\")\n",
    "\n",
    "# For reproducibility\n",
    "SEED = 42\n",
    "np.random.seed(SEED)\n",
    "tf.random.set_seed(SEED)\n",
    "\n",
    "print(\"Setup complete\")\n"
   ]
  },
  {
   "cell_type": "markdown",
   "id": "6e683ccd",
   "metadata": {},
   "source": [
    "### Preprocessing MIDI Files into Numerical Sequences"
   ]
  },
  {
   "cell_type": "code",
   "execution_count": 79,
   "id": "1665f76b",
   "metadata": {},
   "outputs": [
    {
     "name": "stderr",
     "output_type": "stream",
     "text": [
      "Processing bach:   0%|          | 0/43 [00:00<?, ?it/s]"
     ]
    },
    {
     "name": "stderr",
     "output_type": "stream",
     "text": [
      "Processing bach: 100%|██████████| 43/43 [00:00<00:00, 53.64it/s]\n",
      "Processing bartok: 100%|██████████| 42/42 [00:01<00:00, 32.46it/s]\n",
      "Processing byrd: 100%|██████████| 43/43 [00:01<00:00, 23.00it/s]\n",
      "Processing chopin:   0%|          | 0/42 [00:00<?, ?it/s]/Users/falasoul/.pyenv/versions/3.10.13/lib/python3.10/site-packages/pretty_midi/pretty_midi.py:100: RuntimeWarning: Tempo, Key or Time signature change events found on non-zero tracks.  This is not a valid type 0 or type 1 MIDI file.  Tempo, Key or Time Signature may be wrong.\n",
      "  warnings.warn(\n",
      "Processing chopin: 100%|██████████| 42/42 [00:01<00:00, 39.34it/s]\n",
      "Processing handel: 100%|██████████| 42/42 [00:01<00:00, 35.07it/s]\n",
      "Processing hummel: 100%|██████████| 43/43 [00:02<00:00, 14.42it/s]\n",
      "Processing mendelssohn: 100%|██████████| 42/42 [00:02<00:00, 16.72it/s]\n",
      "Processing mozart: 100%|██████████| 42/42 [00:03<00:00, 12.95it/s]\n",
      "Processing schumann: 100%|██████████| 39/39 [00:01<00:00, 20.59it/s]\n",
      "Processing bach: 100%|██████████| 5/5 [00:00<00:00, 47.87it/s]\n",
      "Processing bartok: 100%|██████████| 5/5 [00:00<00:00, 107.95it/s]\n",
      "Processing byrd: 100%|██████████| 5/5 [00:00<00:00, 108.95it/s]\n",
      "Processing chopin: 100%|██████████| 5/5 [00:00<00:00, 45.53it/s]\n",
      "Processing handel: 100%|██████████| 5/5 [00:00<00:00, 45.15it/s]\n",
      "Processing hummel: 100%|██████████| 5/5 [00:00<00:00, 22.17it/s]\n",
      "Processing mendelssohn: 100%|██████████| 5/5 [00:00<00:00, 25.34it/s]\n",
      "Processing mozart: 100%|██████████| 5/5 [00:00<00:00, 27.27it/s]\n",
      "Processing schumann: 100%|██████████| 4/4 [00:00<00:00, 76.53it/s]\n"
     ]
    },
    {
     "name": "stdout",
     "output_type": "stream",
     "text": [
      "Combined training samples: 2020 from 9 composers\n"
     ]
    }
   ],
   "source": [
    "# Step 2: MIDI Parsing and Note Sequence Extraction\n",
    "\n",
    "def extract_note_sequence_with_duration(file_path):\n",
    "    \"\"\"\n",
    "    Extracts a sequence of [pitch, duration] pairs from a MIDI file.\n",
    "    Skips drums and returns a list of pairs for all instruments.\n",
    "    \"\"\"\n",
    "    try:\n",
    "        midi_data = pretty_midi.PrettyMIDI(file_path)\n",
    "        notes = []\n",
    "        for instrument in midi_data.instruments:\n",
    "            if not instrument.is_drum:\n",
    "                for note in instrument.notes:\n",
    "                    duration = note.end - note.start\n",
    "                    notes.append([note.pitch, duration])\n",
    "        return notes\n",
    "    except Exception as e:\n",
    "        print(f\"Error processing {file_path}: {e}\")\n",
    "        return None\n",
    "\n",
    "def extract_note_sequence_with_velocity(file_path):\n",
    "    \"\"\"\n",
    "    Extracts [pitch, duration, velocity] features from a MIDI file.\n",
    "    Skips drums and returns a list of pairs for all instruments.\n",
    "    \"\"\"\n",
    "    try:\n",
    "        midi_data = pretty_midi.PrettyMIDI(file_path)\n",
    "        notes = []\n",
    "        for instrument in midi_data.instruments:\n",
    "            if not instrument.is_drum:\n",
    "                for note in instrument.notes:\n",
    "                    duration = note.end - note.start\n",
    "                    notes.append([note.pitch, duration, note.velocity])\n",
    "        return notes\n",
    "    except Exception as e:\n",
    "        print(f\"Error processing {file_path}: {e}\")\n",
    "        return None\n",
    "\n",
    "# Trasportaion function for pitch values in note pairs\n",
    "\n",
    "\n",
    "def transpose_sequence_triplet(note_triplets, semitone_shift):\n",
    "    \"\"\"\n",
    "    Transpose pitch in a [pitch, duration, velocity] sequence.\n",
    "    \"\"\"\n",
    "    return [\n",
    "        [min(max(pitch + semitone_shift, 0), 127), duration, velocity]\n",
    "        for pitch, duration, velocity in note_triplets\n",
    "    ]\n",
    "\n",
    "def collect_dataset_triplet(folder_path, augment=False):\n",
    "    sequences = []\n",
    "    labels = []\n",
    "\n",
    "    composers = sorted(os.listdir(folder_path))\n",
    "    for composer in composers:\n",
    "        composer_path = os.path.join(folder_path, composer)\n",
    "        if os.path.isdir(composer_path):\n",
    "            for file in tqdm(os.listdir(composer_path), desc=f\"Processing {composer}\"):\n",
    "                if file.endswith(\".mid\"):\n",
    "                    file_path = os.path.join(composer_path, file)\n",
    "                    note_seq = extract_note_sequence_with_velocity(file_path)\n",
    "                    if note_seq:\n",
    "                        if augment:\n",
    "                            for shift in [-2, -1, 0, 1, 2]:\n",
    "                                transposed = transpose_sequence_triplet(note_seq, shift)\n",
    "                                sequences.append(transposed)\n",
    "                                labels.append(composer)\n",
    "                        else:\n",
    "                            sequences.append(note_seq)\n",
    "                            labels.append(composer)\n",
    "    return sequences, labels\n",
    "\n",
    "\n",
    "# Load training data with velocity\n",
    "# uncomment two lines for reverting back to Train_DIR only\n",
    "# train_sequences, train_labels = collect_dataset_triplet(TRAIN_DIR, augment=True)\n",
    "# print(f\" Collected {len(train_sequences)} training sequences from {len(set(train_labels))} composers\")\n",
    "\n",
    "### Combined Sequence:\n",
    "# Step 16A: Load from both train and dev folders\n",
    "\n",
    "train_sequences_1, train_labels_1 = collect_dataset_triplet(TRAIN_DIR, augment=True)\n",
    "train_sequences_2, train_labels_2 = collect_dataset_triplet(DEV_DIR, augment=True)\n",
    "\n",
    "# Combine the two sets\n",
    "combined_sequences = train_sequences_1 + train_sequences_2\n",
    "combined_labels = train_labels_1 + train_labels_2\n",
    "\n",
    "print(f\"Combined training samples: {len(combined_sequences)} from {len(set(combined_labels))} composers\")\n"
   ]
  },
  {
   "cell_type": "code",
   "execution_count": 80,
   "id": "df607c52",
   "metadata": {},
   "outputs": [
    {
     "name": "stdout",
     "output_type": "stream",
     "text": [
      "Training label distribution: Counter({'bach': 210, 'byrd': 210, 'hummel': 210, 'bartok': 205, 'chopin': 205, 'handel': 205, 'mendelssohn': 205, 'mozart': 205, 'schumann': 190})\n"
     ]
    }
   ],
   "source": [
    "from collections import Counter\n",
    "print(\"Training label distribution:\", Counter(train_labels))\n"
   ]
  },
  {
   "cell_type": "markdown",
   "id": "b4dc48cb",
   "metadata": {},
   "source": [
    "Class Distribution looks ok, no need to re-work dataset balance. "
   ]
  },
  {
   "cell_type": "markdown",
   "id": "df545501",
   "metadata": {},
   "source": [
    "### Class Distripution"
   ]
  },
  {
   "cell_type": "markdown",
   "id": "fea78c3a",
   "metadata": {},
   "source": [
    "Warning:\n",
    "means that the MIDI file has meta-events (like tempo or time signature changes) stored on a track other than track 0, which violates the MIDI standard for type 0 or type 1 files. However, pretty_midi still parses the file and extracts notes correctly."
   ]
  },
  {
   "cell_type": "markdown",
   "id": "262adf8b",
   "metadata": {},
   "source": [
    "### Sequence Padding and Label Encoding\n",
    "\n",
    "To make the MIDI note sequences compatible with CNNs and LSTMs, we need to:\n",
    "- Pad all sequences to the same length (e.g., 500 notes).\n",
    "- Encode composer labels into integers.\n",
    "- Normalize note values to a fixed range (optional but helpful for CNNs)."
   ]
  },
  {
   "cell_type": "code",
   "execution_count": 81,
   "id": "96f35c7f",
   "metadata": {},
   "outputs": [
    {
     "name": "stdout",
     "output_type": "stream",
     "text": [
      "Final input shape: (1818, 1500, 3) — includes pitch + duration + Velocity\n",
      "Final training shape: (1818, 1500, 3)\n",
      "Final validation shape: (202, 1500, 3)\n"
     ]
    }
   ],
   "source": [
    "# Step 3: Sequence Padding and Label Encoding\n",
    "\n",
    "from tensorflow.keras.preprocessing.sequence import pad_sequences\n",
    "from sklearn.model_selection import train_test_split\n",
    "\n",
    "# Configuration: Sequence length\n",
    "#SEQUENCE_LENGTH = 500  # You can adjust this later based on model performance\n",
    "SEQUENCE_LENGTH = 1500\n",
    "# Pad note sequences to the same length\n",
    "# We'll pad with 0s at the end (post-padding) for shorter sequences\n",
    "### uncomment to revert to normal LSTM\n",
    "#X_train = pad_sequences(train_sequences, maxlen=config[\"sequence_length\"], padding='post', truncating='post', dtype='float32')\n",
    "### Padding for combined Dataset \n",
    "X_train = pad_sequences(combined_sequences, maxlen=config[\"sequence_length\"], padding='post', truncating='post', dtype='float32')\n",
    "\n",
    "# Normalize pitch only (first column)\n",
    "# Normalize all 3 features\n",
    "X_train[:, :, 0] = X_train[:, :, 0] / 127.0            # pitch\n",
    "X_train[:, :, 1] = np.clip(X_train[:, :, 1], 0, 5) / 5.0  # duration\n",
    "X_train[:, :, 2] = X_train[:, :, 2] / 127.0            # velocity\n",
    "\n",
    "# Encode labels\n",
    "## revert back to train_labels if needed \n",
    "y_train = label_encoder.fit_transform(combined_labels)\n",
    "\n",
    "# Train/val split\n",
    "X_train, X_val, y_train, y_val = train_test_split(X_train, y_train, test_size=0.1, stratify=y_train, random_state=SEED)\n",
    "\n",
    "print(f\"Final input shape: {X_train.shape} — includes pitch + duration + Velocity\")\n",
    "\n",
    "print(f\"Final training shape: {X_train.shape}\")\n",
    "print(f\"Final validation shape: {X_val.shape}\")\n"
   ]
  },
  {
   "cell_type": "markdown",
   "id": "73115e59",
   "metadata": {},
   "source": [
    "### Model Building and Configuration for further enhancements iterations"
   ]
  },
  {
   "cell_type": "markdown",
   "id": "9a509bc5",
   "metadata": {},
   "source": [
    "#### Configuration Block"
   ]
  },
  {
   "cell_type": "code",
   "execution_count": 83,
   "id": "a8e3817f",
   "metadata": {},
   "outputs": [
    {
     "name": "stdout",
     "output_type": "stream",
     "text": [
      "Updated configuration loaded\n"
     ]
    }
   ],
   "source": [
    "# Step 4A: Define Training Configuration\n",
    "\n",
    "config = {\n",
    "    \"sequence_length\": SEQUENCE_LENGTH,               # Updated in earlier stage to 1500\n",
    "    \"num_classes\": len(composer_mapping),\n",
    "    \n",
    "    # CNN config\n",
    "    \"cnn_filters_1\": 64,\n",
    "    \"cnn_kernel_1\": 5,\n",
    "    \"cnn_filters_2\": 128,\n",
    "    \"cnn_kernel_2\": 3,\n",
    "    \"cnn_pool_size\": 2,\n",
    "\n",
    "    # LSTM\n",
    "    \"lstm_units\": 256,\n",
    "\n",
    "    # Training setup\n",
    "    \"dropout_rate\": 0.4,\n",
    "    \"batch_size\": 32,\n",
    "    \"epochs\": 50,\n",
    "    \"learning_rate\": 0.001,\n",
    "\n",
    "    # Paths\n",
    "    \"checkpoint_path\": \"composer_cnn_lstm_best_model.h5\",\n",
    "    \"history_log\": \"training_history.csv\"\n",
    "}\n",
    "\n",
    "print(\"Updated configuration loaded\")\n",
    "\n"
   ]
  },
  {
   "cell_type": "markdown",
   "id": "cf4bdb6d",
   "metadata": {},
   "source": [
    "### Model CNN+LSTM"
   ]
  },
  {
   "cell_type": "code",
   "execution_count": 84,
   "id": "59cd1e4f",
   "metadata": {},
   "outputs": [
    {
     "data": {
      "text/html": [
       "<pre style=\"white-space:pre;overflow-x:auto;line-height:normal;font-family:Menlo,'DejaVu Sans Mono',consolas,'Courier New',monospace\"><span style=\"font-weight: bold\">Model: \"sequential_6\"</span>\n",
       "</pre>\n"
      ],
      "text/plain": [
       "\u001b[1mModel: \"sequential_6\"\u001b[0m\n"
      ]
     },
     "metadata": {},
     "output_type": "display_data"
    },
    {
     "data": {
      "text/html": [
       "<pre style=\"white-space:pre;overflow-x:auto;line-height:normal;font-family:Menlo,'DejaVu Sans Mono',consolas,'Courier New',monospace\">┏━━━━━━━━━━━━━━━━━━━━━━━━━━━━━━━━━┳━━━━━━━━━━━━━━━━━━━━━━━━┳━━━━━━━━━━━━━━━┓\n",
       "┃<span style=\"font-weight: bold\"> Layer (type)                    </span>┃<span style=\"font-weight: bold\"> Output Shape           </span>┃<span style=\"font-weight: bold\">       Param # </span>┃\n",
       "┡━━━━━━━━━━━━━━━━━━━━━━━━━━━━━━━━━╇━━━━━━━━━━━━━━━━━━━━━━━━╇━━━━━━━━━━━━━━━┩\n",
       "│ conv1d_11 (<span style=\"color: #0087ff; text-decoration-color: #0087ff\">Conv1D</span>)              │ (<span style=\"color: #00d7ff; text-decoration-color: #00d7ff\">None</span>, <span style=\"color: #00af00; text-decoration-color: #00af00\">1496</span>, <span style=\"color: #00af00; text-decoration-color: #00af00\">64</span>)       │         <span style=\"color: #00af00; text-decoration-color: #00af00\">1,024</span> │\n",
       "├─────────────────────────────────┼────────────────────────┼───────────────┤\n",
       "│ max_pooling1d_11 (<span style=\"color: #0087ff; text-decoration-color: #0087ff\">MaxPooling1D</span>) │ (<span style=\"color: #00d7ff; text-decoration-color: #00d7ff\">None</span>, <span style=\"color: #00af00; text-decoration-color: #00af00\">748</span>, <span style=\"color: #00af00; text-decoration-color: #00af00\">64</span>)        │             <span style=\"color: #00af00; text-decoration-color: #00af00\">0</span> │\n",
       "├─────────────────────────────────┼────────────────────────┼───────────────┤\n",
       "│ batch_normalization_11          │ (<span style=\"color: #00d7ff; text-decoration-color: #00d7ff\">None</span>, <span style=\"color: #00af00; text-decoration-color: #00af00\">748</span>, <span style=\"color: #00af00; text-decoration-color: #00af00\">64</span>)        │           <span style=\"color: #00af00; text-decoration-color: #00af00\">256</span> │\n",
       "│ (<span style=\"color: #0087ff; text-decoration-color: #0087ff\">BatchNormalization</span>)            │                        │               │\n",
       "├─────────────────────────────────┼────────────────────────┼───────────────┤\n",
       "│ conv1d_12 (<span style=\"color: #0087ff; text-decoration-color: #0087ff\">Conv1D</span>)              │ (<span style=\"color: #00d7ff; text-decoration-color: #00d7ff\">None</span>, <span style=\"color: #00af00; text-decoration-color: #00af00\">746</span>, <span style=\"color: #00af00; text-decoration-color: #00af00\">128</span>)       │        <span style=\"color: #00af00; text-decoration-color: #00af00\">24,704</span> │\n",
       "├─────────────────────────────────┼────────────────────────┼───────────────┤\n",
       "│ max_pooling1d_12 (<span style=\"color: #0087ff; text-decoration-color: #0087ff\">MaxPooling1D</span>) │ (<span style=\"color: #00d7ff; text-decoration-color: #00d7ff\">None</span>, <span style=\"color: #00af00; text-decoration-color: #00af00\">373</span>, <span style=\"color: #00af00; text-decoration-color: #00af00\">128</span>)       │             <span style=\"color: #00af00; text-decoration-color: #00af00\">0</span> │\n",
       "├─────────────────────────────────┼────────────────────────┼───────────────┤\n",
       "│ batch_normalization_12          │ (<span style=\"color: #00d7ff; text-decoration-color: #00d7ff\">None</span>, <span style=\"color: #00af00; text-decoration-color: #00af00\">373</span>, <span style=\"color: #00af00; text-decoration-color: #00af00\">128</span>)       │           <span style=\"color: #00af00; text-decoration-color: #00af00\">512</span> │\n",
       "│ (<span style=\"color: #0087ff; text-decoration-color: #0087ff\">BatchNormalization</span>)            │                        │               │\n",
       "├─────────────────────────────────┼────────────────────────┼───────────────┤\n",
       "│ bidirectional_2 (<span style=\"color: #0087ff; text-decoration-color: #0087ff\">Bidirectional</span>) │ (<span style=\"color: #00d7ff; text-decoration-color: #00d7ff\">None</span>, <span style=\"color: #00af00; text-decoration-color: #00af00\">512</span>)            │       <span style=\"color: #00af00; text-decoration-color: #00af00\">788,480</span> │\n",
       "├─────────────────────────────────┼────────────────────────┼───────────────┤\n",
       "│ dropout_6 (<span style=\"color: #0087ff; text-decoration-color: #0087ff\">Dropout</span>)             │ (<span style=\"color: #00d7ff; text-decoration-color: #00d7ff\">None</span>, <span style=\"color: #00af00; text-decoration-color: #00af00\">512</span>)            │             <span style=\"color: #00af00; text-decoration-color: #00af00\">0</span> │\n",
       "├─────────────────────────────────┼────────────────────────┼───────────────┤\n",
       "│ dense_6 (<span style=\"color: #0087ff; text-decoration-color: #0087ff\">Dense</span>)                 │ (<span style=\"color: #00d7ff; text-decoration-color: #00d7ff\">None</span>, <span style=\"color: #00af00; text-decoration-color: #00af00\">9</span>)              │         <span style=\"color: #00af00; text-decoration-color: #00af00\">4,617</span> │\n",
       "└─────────────────────────────────┴────────────────────────┴───────────────┘\n",
       "</pre>\n"
      ],
      "text/plain": [
       "┏━━━━━━━━━━━━━━━━━━━━━━━━━━━━━━━━━┳━━━━━━━━━━━━━━━━━━━━━━━━┳━━━━━━━━━━━━━━━┓\n",
       "┃\u001b[1m \u001b[0m\u001b[1mLayer (type)                   \u001b[0m\u001b[1m \u001b[0m┃\u001b[1m \u001b[0m\u001b[1mOutput Shape          \u001b[0m\u001b[1m \u001b[0m┃\u001b[1m \u001b[0m\u001b[1m      Param #\u001b[0m\u001b[1m \u001b[0m┃\n",
       "┡━━━━━━━━━━━━━━━━━━━━━━━━━━━━━━━━━╇━━━━━━━━━━━━━━━━━━━━━━━━╇━━━━━━━━━━━━━━━┩\n",
       "│ conv1d_11 (\u001b[38;5;33mConv1D\u001b[0m)              │ (\u001b[38;5;45mNone\u001b[0m, \u001b[38;5;34m1496\u001b[0m, \u001b[38;5;34m64\u001b[0m)       │         \u001b[38;5;34m1,024\u001b[0m │\n",
       "├─────────────────────────────────┼────────────────────────┼───────────────┤\n",
       "│ max_pooling1d_11 (\u001b[38;5;33mMaxPooling1D\u001b[0m) │ (\u001b[38;5;45mNone\u001b[0m, \u001b[38;5;34m748\u001b[0m, \u001b[38;5;34m64\u001b[0m)        │             \u001b[38;5;34m0\u001b[0m │\n",
       "├─────────────────────────────────┼────────────────────────┼───────────────┤\n",
       "│ batch_normalization_11          │ (\u001b[38;5;45mNone\u001b[0m, \u001b[38;5;34m748\u001b[0m, \u001b[38;5;34m64\u001b[0m)        │           \u001b[38;5;34m256\u001b[0m │\n",
       "│ (\u001b[38;5;33mBatchNormalization\u001b[0m)            │                        │               │\n",
       "├─────────────────────────────────┼────────────────────────┼───────────────┤\n",
       "│ conv1d_12 (\u001b[38;5;33mConv1D\u001b[0m)              │ (\u001b[38;5;45mNone\u001b[0m, \u001b[38;5;34m746\u001b[0m, \u001b[38;5;34m128\u001b[0m)       │        \u001b[38;5;34m24,704\u001b[0m │\n",
       "├─────────────────────────────────┼────────────────────────┼───────────────┤\n",
       "│ max_pooling1d_12 (\u001b[38;5;33mMaxPooling1D\u001b[0m) │ (\u001b[38;5;45mNone\u001b[0m, \u001b[38;5;34m373\u001b[0m, \u001b[38;5;34m128\u001b[0m)       │             \u001b[38;5;34m0\u001b[0m │\n",
       "├─────────────────────────────────┼────────────────────────┼───────────────┤\n",
       "│ batch_normalization_12          │ (\u001b[38;5;45mNone\u001b[0m, \u001b[38;5;34m373\u001b[0m, \u001b[38;5;34m128\u001b[0m)       │           \u001b[38;5;34m512\u001b[0m │\n",
       "│ (\u001b[38;5;33mBatchNormalization\u001b[0m)            │                        │               │\n",
       "├─────────────────────────────────┼────────────────────────┼───────────────┤\n",
       "│ bidirectional_2 (\u001b[38;5;33mBidirectional\u001b[0m) │ (\u001b[38;5;45mNone\u001b[0m, \u001b[38;5;34m512\u001b[0m)            │       \u001b[38;5;34m788,480\u001b[0m │\n",
       "├─────────────────────────────────┼────────────────────────┼───────────────┤\n",
       "│ dropout_6 (\u001b[38;5;33mDropout\u001b[0m)             │ (\u001b[38;5;45mNone\u001b[0m, \u001b[38;5;34m512\u001b[0m)            │             \u001b[38;5;34m0\u001b[0m │\n",
       "├─────────────────────────────────┼────────────────────────┼───────────────┤\n",
       "│ dense_6 (\u001b[38;5;33mDense\u001b[0m)                 │ (\u001b[38;5;45mNone\u001b[0m, \u001b[38;5;34m9\u001b[0m)              │         \u001b[38;5;34m4,617\u001b[0m │\n",
       "└─────────────────────────────────┴────────────────────────┴───────────────┘\n"
      ]
     },
     "metadata": {},
     "output_type": "display_data"
    },
    {
     "data": {
      "text/html": [
       "<pre style=\"white-space:pre;overflow-x:auto;line-height:normal;font-family:Menlo,'DejaVu Sans Mono',consolas,'Courier New',monospace\"><span style=\"font-weight: bold\"> Total params: </span><span style=\"color: #00af00; text-decoration-color: #00af00\">819,593</span> (3.13 MB)\n",
       "</pre>\n"
      ],
      "text/plain": [
       "\u001b[1m Total params: \u001b[0m\u001b[38;5;34m819,593\u001b[0m (3.13 MB)\n"
      ]
     },
     "metadata": {},
     "output_type": "display_data"
    },
    {
     "data": {
      "text/html": [
       "<pre style=\"white-space:pre;overflow-x:auto;line-height:normal;font-family:Menlo,'DejaVu Sans Mono',consolas,'Courier New',monospace\"><span style=\"font-weight: bold\"> Trainable params: </span><span style=\"color: #00af00; text-decoration-color: #00af00\">819,209</span> (3.13 MB)\n",
       "</pre>\n"
      ],
      "text/plain": [
       "\u001b[1m Trainable params: \u001b[0m\u001b[38;5;34m819,209\u001b[0m (3.13 MB)\n"
      ]
     },
     "metadata": {},
     "output_type": "display_data"
    },
    {
     "data": {
      "text/html": [
       "<pre style=\"white-space:pre;overflow-x:auto;line-height:normal;font-family:Menlo,'DejaVu Sans Mono',consolas,'Courier New',monospace\"><span style=\"font-weight: bold\"> Non-trainable params: </span><span style=\"color: #00af00; text-decoration-color: #00af00\">384</span> (1.50 KB)\n",
       "</pre>\n"
      ],
      "text/plain": [
       "\u001b[1m Non-trainable params: \u001b[0m\u001b[38;5;34m384\u001b[0m (1.50 KB)\n"
      ]
     },
     "metadata": {},
     "output_type": "display_data"
    }
   ],
   "source": [
    "from tensorflow.keras.layers import Bidirectional\n",
    "# Step 4B: Define CNN + LSTM Model Builder\n",
    "def build_bidirectional_cnn_lstm_model(config):\n",
    "    model = Sequential()\n",
    "    model.add(Input(shape=(config[\"sequence_length\"], 3)))  # 3 features: pitch, duration, velocity\n",
    "\n",
    "    # CNN Layers\n",
    "    model.add(Conv1D(filters=config[\"cnn_filters_1\"], kernel_size=config[\"cnn_kernel_1\"], activation='relu'))\n",
    "    model.add(MaxPooling1D(pool_size=config[\"cnn_pool_size\"]))\n",
    "    model.add(BatchNormalization())\n",
    "\n",
    "    model.add(Conv1D(filters=config[\"cnn_filters_2\"], kernel_size=config[\"cnn_kernel_2\"], activation='relu'))\n",
    "    model.add(MaxPooling1D(pool_size=config[\"cnn_pool_size\"]))\n",
    "    model.add(BatchNormalization())\n",
    "\n",
    "    # Bidirectional LSTM\n",
    "    model.add(Bidirectional(LSTM(config[\"lstm_units\"], return_sequences=False)))\n",
    "    model.add(Dropout(config[\"dropout_rate\"]))\n",
    "\n",
    "    # Output layer\n",
    "    model.add(Dense(config[\"num_classes\"], activation='softmax'))\n",
    "\n",
    "    # Compile\n",
    "    optimizer = tf.keras.optimizers.Adam(learning_rate=config[\"learning_rate\"])\n",
    "    model.compile(\n",
    "        optimizer=optimizer,\n",
    "        loss='sparse_categorical_crossentropy',\n",
    "        metrics=['accuracy']\n",
    "    )\n",
    "\n",
    "    return model\n",
    "\n",
    "# Step 4B: Define CNN + LSTM Model Builder\n",
    "\n",
    "\n",
    "def build_cnn_lstm_model(config):\n",
    "    model = Sequential()\n",
    "    \n",
    "\n",
    "    # Input: 2 features: pitch + duration – reshape required later\n",
    "    model.add(Input(shape=(config[\"sequence_length\"], 3)))  # \n",
    "    \n",
    "    # First CNN layer\n",
    "    model.add(Conv1D(filters=config[\"cnn_filters_1\"], kernel_size=config[\"cnn_kernel_1\"], activation='relu'))\n",
    "    model.add(MaxPooling1D(pool_size=config[\"cnn_pool_size\"]))\n",
    "    model.add(BatchNormalization())\n",
    "\n",
    "\n",
    "    # Second CNN layer\n",
    "    model.add(Conv1D(filters=config[\"cnn_filters_2\"], kernel_size=config[\"cnn_kernel_2\"], activation='relu'))\n",
    "    model.add(MaxPooling1D(pool_size=config[\"cnn_pool_size\"]))\n",
    "    model.add(BatchNormalization())\n",
    "\n",
    "\n",
    "    # LSTM Layer\n",
    "    model.add(LSTM(config[\"lstm_units\"], return_sequences=False))\n",
    "    model.add(Dropout(config[\"dropout_rate\"]))\n",
    "\n",
    "    # Output Layer\n",
    "    model.add(Dense(config[\"num_classes\"], activation='softmax'))\n",
    "\n",
    "    # Compile Model\n",
    "    optimizer = tf.keras.optimizers.Adam(learning_rate=config[\"learning_rate\"])\n",
    "    model.compile(optimizer=optimizer,\n",
    "                  loss='sparse_categorical_crossentropy',\n",
    "                  metrics=['accuracy'])\n",
    "    \n",
    "    return model\n",
    "\n",
    "# Reshape input for CNN: (samples, sequence_length, 1)\n",
    "# X_train_reshaped = X_train[..., np.newaxis]\n",
    "# X_val_reshaped = X_val[..., np.newaxis]\n",
    "\n",
    "model = build_bidirectional_cnn_lstm_model(config)\n",
    "model.summary()\n"
   ]
  },
  {
   "cell_type": "markdown",
   "id": "e3df101b",
   "metadata": {},
   "source": [
    "- We're using sparse_categorical_crossentropy because the labels are integer-encoded.\n",
    "- You can easily switch to more layers or attention mechanisms later if needed.\n",
    "- Adding an Embedding layer can be useful if you switch from raw pitch values to token IDs."
   ]
  },
  {
   "cell_type": "markdown",
   "id": "a1376b77",
   "metadata": {},
   "source": [
    "#### Training with Callbacks (Checkpoint + History Logging)"
   ]
  },
  {
   "cell_type": "markdown",
   "id": "0ca4ab2c",
   "metadata": {},
   "source": [
    "- Save your best model based on validation accuracy.\n",
    "- Log training history to a CSV.\n",
    "- Include early stopping for efficiency."
   ]
  },
  {
   "cell_type": "markdown",
   "id": "7665aa82",
   "metadata": {},
   "source": [
    "#### Defining Callbacks"
   ]
  },
  {
   "cell_type": "markdown",
   "id": "ad8b0f81",
   "metadata": {},
   "source": [
    "- Save your best model to composer_cnn_lstm_best_model.h5.\n",
    "- Log all epoch-level performance into training_history.csv."
   ]
  },
  {
   "cell_type": "code",
   "execution_count": 85,
   "id": "0b64f75d",
   "metadata": {},
   "outputs": [],
   "source": [
    "# Step 5A: Define Training Callbacks\n",
    "\n",
    "checkpoint_cb = ModelCheckpoint(\n",
    "    filepath=config[\"checkpoint_path\"],\n",
    "    monitor=\"val_accuracy\",\n",
    "    save_best_only=True,\n",
    "    save_weights_only=False,\n",
    "    verbose=1\n",
    ")\n",
    "\n",
    "earlystop_cb = EarlyStopping(\n",
    "    monitor=\"val_accuracy\",\n",
    "    patience=10,\n",
    "    restore_best_weights=True,\n",
    "    verbose=1\n",
    ")\n",
    "\n",
    "csv_logger_cb = tf.keras.callbacks.CSVLogger(\n",
    "    config[\"history_log\"],\n",
    "    append=True\n",
    ")\n",
    "\n",
    "callbacks = [checkpoint_cb, earlystop_cb, csv_logger_cb]\n"
   ]
  },
  {
   "cell_type": "markdown",
   "id": "1bf50f62",
   "metadata": {},
   "source": [
    "#### Training the Model"
   ]
  },
  {
   "cell_type": "code",
   "execution_count": 86,
   "id": "f5fd5f5d",
   "metadata": {},
   "outputs": [
    {
     "name": "stdout",
     "output_type": "stream",
     "text": [
      "Epoch 1/50\n",
      "\u001b[1m57/57\u001b[0m \u001b[32m━━━━━━━━━━━━━━━━━━━━\u001b[0m\u001b[37m\u001b[0m \u001b[1m0s\u001b[0m 232ms/step - accuracy: 0.4466 - loss: 1.4914\n",
      "Epoch 1: val_accuracy improved from -inf to 0.11386, saving model to composer_cnn_lstm_best_model.h5\n"
     ]
    },
    {
     "name": "stderr",
     "output_type": "stream",
     "text": [
      "WARNING:absl:You are saving your model as an HDF5 file via `model.save()` or `keras.saving.save_model(model)`. This file format is considered legacy. We recommend using instead the native Keras format, e.g. `model.save('my_model.keras')` or `keras.saving.save_model(model, 'my_model.keras')`. \n"
     ]
    },
    {
     "name": "stdout",
     "output_type": "stream",
     "text": [
      "\u001b[1m57/57\u001b[0m \u001b[32m━━━━━━━━━━━━━━━━━━━━\u001b[0m\u001b[37m\u001b[0m \u001b[1m15s\u001b[0m 248ms/step - accuracy: 0.4485 - loss: 1.4867 - val_accuracy: 0.1139 - val_loss: 2.6019\n",
      "Epoch 2/50\n",
      "\u001b[1m57/57\u001b[0m \u001b[32m━━━━━━━━━━━━━━━━━━━━\u001b[0m\u001b[37m\u001b[0m \u001b[1m0s\u001b[0m 239ms/step - accuracy: 0.6740 - loss: 0.8883\n",
      "Epoch 2: val_accuracy did not improve from 0.11386\n",
      "\u001b[1m57/57\u001b[0m \u001b[32m━━━━━━━━━━━━━━━━━━━━\u001b[0m\u001b[37m\u001b[0m \u001b[1m14s\u001b[0m 251ms/step - accuracy: 0.6745 - loss: 0.8874 - val_accuracy: 0.1139 - val_loss: 3.7636\n",
      "Epoch 3/50\n",
      "\u001b[1m57/57\u001b[0m \u001b[32m━━━━━━━━━━━━━━━━━━━━\u001b[0m\u001b[37m\u001b[0m \u001b[1m0s\u001b[0m 242ms/step - accuracy: 0.7792 - loss: 0.6762\n",
      "Epoch 3: val_accuracy improved from 0.11386 to 0.16832, saving model to composer_cnn_lstm_best_model.h5\n"
     ]
    },
    {
     "name": "stderr",
     "output_type": "stream",
     "text": [
      "WARNING:absl:You are saving your model as an HDF5 file via `model.save()` or `keras.saving.save_model(model)`. This file format is considered legacy. We recommend using instead the native Keras format, e.g. `model.save('my_model.keras')` or `keras.saving.save_model(model, 'my_model.keras')`. \n"
     ]
    },
    {
     "name": "stdout",
     "output_type": "stream",
     "text": [
      "\u001b[1m57/57\u001b[0m \u001b[32m━━━━━━━━━━━━━━━━━━━━\u001b[0m\u001b[37m\u001b[0m \u001b[1m15s\u001b[0m 255ms/step - accuracy: 0.7796 - loss: 0.6750 - val_accuracy: 0.1683 - val_loss: 4.0619\n",
      "Epoch 4/50\n",
      "\u001b[1m57/57\u001b[0m \u001b[32m━━━━━━━━━━━━━━━━━━━━\u001b[0m\u001b[37m\u001b[0m \u001b[1m0s\u001b[0m 235ms/step - accuracy: 0.8567 - loss: 0.4486\n",
      "Epoch 4: val_accuracy improved from 0.16832 to 0.19802, saving model to composer_cnn_lstm_best_model.h5\n"
     ]
    },
    {
     "name": "stderr",
     "output_type": "stream",
     "text": [
      "WARNING:absl:You are saving your model as an HDF5 file via `model.save()` or `keras.saving.save_model(model)`. This file format is considered legacy. We recommend using instead the native Keras format, e.g. `model.save('my_model.keras')` or `keras.saving.save_model(model, 'my_model.keras')`. \n"
     ]
    },
    {
     "name": "stdout",
     "output_type": "stream",
     "text": [
      "\u001b[1m57/57\u001b[0m \u001b[32m━━━━━━━━━━━━━━━━━━━━\u001b[0m\u001b[37m\u001b[0m \u001b[1m14s\u001b[0m 248ms/step - accuracy: 0.8570 - loss: 0.4478 - val_accuracy: 0.1980 - val_loss: 4.6563\n",
      "Epoch 5/50\n",
      "\u001b[1m57/57\u001b[0m \u001b[32m━━━━━━━━━━━━━━━━━━━━\u001b[0m\u001b[37m\u001b[0m \u001b[1m0s\u001b[0m 228ms/step - accuracy: 0.9039 - loss: 0.3294\n",
      "Epoch 5: val_accuracy improved from 0.19802 to 0.20297, saving model to composer_cnn_lstm_best_model.h5\n"
     ]
    },
    {
     "name": "stderr",
     "output_type": "stream",
     "text": [
      "WARNING:absl:You are saving your model as an HDF5 file via `model.save()` or `keras.saving.save_model(model)`. This file format is considered legacy. We recommend using instead the native Keras format, e.g. `model.save('my_model.keras')` or `keras.saving.save_model(model, 'my_model.keras')`. \n"
     ]
    },
    {
     "name": "stdout",
     "output_type": "stream",
     "text": [
      "\u001b[1m57/57\u001b[0m \u001b[32m━━━━━━━━━━━━━━━━━━━━\u001b[0m\u001b[37m\u001b[0m \u001b[1m14s\u001b[0m 242ms/step - accuracy: 0.9040 - loss: 0.3289 - val_accuracy: 0.2030 - val_loss: 4.7439\n",
      "Epoch 6/50\n",
      "\u001b[1m57/57\u001b[0m \u001b[32m━━━━━━━━━━━━━━━━━━━━\u001b[0m\u001b[37m\u001b[0m \u001b[1m0s\u001b[0m 231ms/step - accuracy: 0.9319 - loss: 0.2301\n",
      "Epoch 6: val_accuracy improved from 0.20297 to 0.20792, saving model to composer_cnn_lstm_best_model.h5\n"
     ]
    },
    {
     "name": "stderr",
     "output_type": "stream",
     "text": [
      "WARNING:absl:You are saving your model as an HDF5 file via `model.save()` or `keras.saving.save_model(model)`. This file format is considered legacy. We recommend using instead the native Keras format, e.g. `model.save('my_model.keras')` or `keras.saving.save_model(model, 'my_model.keras')`. \n"
     ]
    },
    {
     "name": "stdout",
     "output_type": "stream",
     "text": [
      "\u001b[1m57/57\u001b[0m \u001b[32m━━━━━━━━━━━━━━━━━━━━\u001b[0m\u001b[37m\u001b[0m \u001b[1m14s\u001b[0m 243ms/step - accuracy: 0.9320 - loss: 0.2299 - val_accuracy: 0.2079 - val_loss: 4.2999\n",
      "Epoch 7/50\n",
      "\u001b[1m57/57\u001b[0m \u001b[32m━━━━━━━━━━━━━━━━━━━━\u001b[0m\u001b[37m\u001b[0m \u001b[1m0s\u001b[0m 240ms/step - accuracy: 0.9508 - loss: 0.1791\n",
      "Epoch 7: val_accuracy did not improve from 0.20792\n",
      "\u001b[1m57/57\u001b[0m \u001b[32m━━━━━━━━━━━━━━━━━━━━\u001b[0m\u001b[37m\u001b[0m \u001b[1m15s\u001b[0m 256ms/step - accuracy: 0.9508 - loss: 0.1790 - val_accuracy: 0.2030 - val_loss: 3.9678\n",
      "Epoch 8/50\n",
      "\u001b[1m57/57\u001b[0m \u001b[32m━━━━━━━━━━━━━━━━━━━━\u001b[0m\u001b[37m\u001b[0m \u001b[1m0s\u001b[0m 237ms/step - accuracy: 0.9733 - loss: 0.1219\n",
      "Epoch 8: val_accuracy improved from 0.20792 to 0.25248, saving model to composer_cnn_lstm_best_model.h5\n"
     ]
    },
    {
     "name": "stderr",
     "output_type": "stream",
     "text": [
      "WARNING:absl:You are saving your model as an HDF5 file via `model.save()` or `keras.saving.save_model(model)`. This file format is considered legacy. We recommend using instead the native Keras format, e.g. `model.save('my_model.keras')` or `keras.saving.save_model(model, 'my_model.keras')`. \n"
     ]
    },
    {
     "name": "stdout",
     "output_type": "stream",
     "text": [
      "\u001b[1m57/57\u001b[0m \u001b[32m━━━━━━━━━━━━━━━━━━━━\u001b[0m\u001b[37m\u001b[0m \u001b[1m14s\u001b[0m 251ms/step - accuracy: 0.9734 - loss: 0.1216 - val_accuracy: 0.2525 - val_loss: 3.9184\n",
      "Epoch 9/50\n",
      "\u001b[1m57/57\u001b[0m \u001b[32m━━━━━━━━━━━━━━━━━━━━\u001b[0m\u001b[37m\u001b[0m \u001b[1m0s\u001b[0m 248ms/step - accuracy: 0.9868 - loss: 0.0652\n",
      "Epoch 9: val_accuracy improved from 0.25248 to 0.34653, saving model to composer_cnn_lstm_best_model.h5\n"
     ]
    },
    {
     "name": "stderr",
     "output_type": "stream",
     "text": [
      "WARNING:absl:You are saving your model as an HDF5 file via `model.save()` or `keras.saving.save_model(model)`. This file format is considered legacy. We recommend using instead the native Keras format, e.g. `model.save('my_model.keras')` or `keras.saving.save_model(model, 'my_model.keras')`. \n"
     ]
    },
    {
     "name": "stdout",
     "output_type": "stream",
     "text": [
      "\u001b[1m57/57\u001b[0m \u001b[32m━━━━━━━━━━━━━━━━━━━━\u001b[0m\u001b[37m\u001b[0m \u001b[1m15s\u001b[0m 262ms/step - accuracy: 0.9868 - loss: 0.0650 - val_accuracy: 0.3465 - val_loss: 3.0269\n",
      "Epoch 10/50\n",
      "\u001b[1m57/57\u001b[0m \u001b[32m━━━━━━━━━━━━━━━━━━━━\u001b[0m\u001b[37m\u001b[0m \u001b[1m0s\u001b[0m 244ms/step - accuracy: 0.9781 - loss: 0.0855\n",
      "Epoch 10: val_accuracy improved from 0.34653 to 0.56436, saving model to composer_cnn_lstm_best_model.h5\n"
     ]
    },
    {
     "name": "stderr",
     "output_type": "stream",
     "text": [
      "WARNING:absl:You are saving your model as an HDF5 file via `model.save()` or `keras.saving.save_model(model)`. This file format is considered legacy. We recommend using instead the native Keras format, e.g. `model.save('my_model.keras')` or `keras.saving.save_model(model, 'my_model.keras')`. \n"
     ]
    },
    {
     "name": "stdout",
     "output_type": "stream",
     "text": [
      "\u001b[1m57/57\u001b[0m \u001b[32m━━━━━━━━━━━━━━━━━━━━\u001b[0m\u001b[37m\u001b[0m \u001b[1m15s\u001b[0m 257ms/step - accuracy: 0.9782 - loss: 0.0853 - val_accuracy: 0.5644 - val_loss: 1.2681\n",
      "Epoch 11/50\n",
      "\u001b[1m57/57\u001b[0m \u001b[32m━━━━━━━━━━━━━━━━━━━━\u001b[0m\u001b[37m\u001b[0m \u001b[1m0s\u001b[0m 248ms/step - accuracy: 0.9783 - loss: 0.0715\n",
      "Epoch 11: val_accuracy improved from 0.56436 to 0.64851, saving model to composer_cnn_lstm_best_model.h5\n"
     ]
    },
    {
     "name": "stderr",
     "output_type": "stream",
     "text": [
      "WARNING:absl:You are saving your model as an HDF5 file via `model.save()` or `keras.saving.save_model(model)`. This file format is considered legacy. We recommend using instead the native Keras format, e.g. `model.save('my_model.keras')` or `keras.saving.save_model(model, 'my_model.keras')`. \n"
     ]
    },
    {
     "name": "stdout",
     "output_type": "stream",
     "text": [
      "\u001b[1m57/57\u001b[0m \u001b[32m━━━━━━━━━━━━━━━━━━━━\u001b[0m\u001b[37m\u001b[0m \u001b[1m15s\u001b[0m 261ms/step - accuracy: 0.9784 - loss: 0.0714 - val_accuracy: 0.6485 - val_loss: 1.2399\n",
      "Epoch 12/50\n",
      "\u001b[1m57/57\u001b[0m \u001b[32m━━━━━━━━━━━━━━━━━━━━\u001b[0m\u001b[37m\u001b[0m \u001b[1m0s\u001b[0m 248ms/step - accuracy: 0.9871 - loss: 0.0584\n",
      "Epoch 12: val_accuracy did not improve from 0.64851\n",
      "\u001b[1m57/57\u001b[0m \u001b[32m━━━━━━━━━━━━━━━━━━━━\u001b[0m\u001b[37m\u001b[0m \u001b[1m15s\u001b[0m 261ms/step - accuracy: 0.9871 - loss: 0.0585 - val_accuracy: 0.6089 - val_loss: 1.2432\n",
      "Epoch 13/50\n",
      "\u001b[1m57/57\u001b[0m \u001b[32m━━━━━━━━━━━━━━━━━━━━\u001b[0m\u001b[37m\u001b[0m \u001b[1m0s\u001b[0m 246ms/step - accuracy: 0.9226 - loss: 0.2314\n",
      "Epoch 13: val_accuracy improved from 0.64851 to 0.86139, saving model to composer_cnn_lstm_best_model.h5\n"
     ]
    },
    {
     "name": "stderr",
     "output_type": "stream",
     "text": [
      "WARNING:absl:You are saving your model as an HDF5 file via `model.save()` or `keras.saving.save_model(model)`. This file format is considered legacy. We recommend using instead the native Keras format, e.g. `model.save('my_model.keras')` or `keras.saving.save_model(model, 'my_model.keras')`. \n"
     ]
    },
    {
     "name": "stdout",
     "output_type": "stream",
     "text": [
      "\u001b[1m57/57\u001b[0m \u001b[32m━━━━━━━━━━━━━━━━━━━━\u001b[0m\u001b[37m\u001b[0m \u001b[1m15s\u001b[0m 261ms/step - accuracy: 0.9230 - loss: 0.2306 - val_accuracy: 0.8614 - val_loss: 0.4787\n",
      "Epoch 14/50\n",
      "\u001b[1m57/57\u001b[0m \u001b[32m━━━━━━━━━━━━━━━━━━━━\u001b[0m\u001b[37m\u001b[0m \u001b[1m0s\u001b[0m 239ms/step - accuracy: 0.9854 - loss: 0.0718\n",
      "Epoch 14: val_accuracy improved from 0.86139 to 0.88119, saving model to composer_cnn_lstm_best_model.h5\n"
     ]
    },
    {
     "name": "stderr",
     "output_type": "stream",
     "text": [
      "WARNING:absl:You are saving your model as an HDF5 file via `model.save()` or `keras.saving.save_model(model)`. This file format is considered legacy. We recommend using instead the native Keras format, e.g. `model.save('my_model.keras')` or `keras.saving.save_model(model, 'my_model.keras')`. \n"
     ]
    },
    {
     "name": "stdout",
     "output_type": "stream",
     "text": [
      "\u001b[1m57/57\u001b[0m \u001b[32m━━━━━━━━━━━━━━━━━━━━\u001b[0m\u001b[37m\u001b[0m \u001b[1m14s\u001b[0m 254ms/step - accuracy: 0.9854 - loss: 0.0716 - val_accuracy: 0.8812 - val_loss: 0.4373\n",
      "Epoch 15/50\n",
      "\u001b[1m57/57\u001b[0m \u001b[32m━━━━━━━━━━━━━━━━━━━━\u001b[0m\u001b[37m\u001b[0m \u001b[1m0s\u001b[0m 234ms/step - accuracy: 0.9753 - loss: 0.0839\n",
      "Epoch 15: val_accuracy improved from 0.88119 to 0.97525, saving model to composer_cnn_lstm_best_model.h5\n"
     ]
    },
    {
     "name": "stderr",
     "output_type": "stream",
     "text": [
      "WARNING:absl:You are saving your model as an HDF5 file via `model.save()` or `keras.saving.save_model(model)`. This file format is considered legacy. We recommend using instead the native Keras format, e.g. `model.save('my_model.keras')` or `keras.saving.save_model(model, 'my_model.keras')`. \n"
     ]
    },
    {
     "name": "stdout",
     "output_type": "stream",
     "text": [
      "\u001b[1m57/57\u001b[0m \u001b[32m━━━━━━━━━━━━━━━━━━━━\u001b[0m\u001b[37m\u001b[0m \u001b[1m14s\u001b[0m 249ms/step - accuracy: 0.9755 - loss: 0.0835 - val_accuracy: 0.9752 - val_loss: 0.0815\n",
      "Epoch 16/50\n",
      "\u001b[1m57/57\u001b[0m \u001b[32m━━━━━━━━━━━━━━━━━━━━\u001b[0m\u001b[37m\u001b[0m \u001b[1m0s\u001b[0m 237ms/step - accuracy: 0.9967 - loss: 0.0192\n",
      "Epoch 16: val_accuracy did not improve from 0.97525\n",
      "\u001b[1m57/57\u001b[0m \u001b[32m━━━━━━━━━━━━━━━━━━━━\u001b[0m\u001b[37m\u001b[0m \u001b[1m14s\u001b[0m 249ms/step - accuracy: 0.9968 - loss: 0.0191 - val_accuracy: 0.9505 - val_loss: 0.1459\n",
      "Epoch 17/50\n",
      "\u001b[1m57/57\u001b[0m \u001b[32m━━━━━━━━━━━━━━━━━━━━\u001b[0m\u001b[37m\u001b[0m \u001b[1m0s\u001b[0m 241ms/step - accuracy: 0.9980 - loss: 0.0110\n",
      "Epoch 17: val_accuracy improved from 0.97525 to 1.00000, saving model to composer_cnn_lstm_best_model.h5\n"
     ]
    },
    {
     "name": "stderr",
     "output_type": "stream",
     "text": [
      "WARNING:absl:You are saving your model as an HDF5 file via `model.save()` or `keras.saving.save_model(model)`. This file format is considered legacy. We recommend using instead the native Keras format, e.g. `model.save('my_model.keras')` or `keras.saving.save_model(model, 'my_model.keras')`. \n"
     ]
    },
    {
     "name": "stdout",
     "output_type": "stream",
     "text": [
      "\u001b[1m57/57\u001b[0m \u001b[32m━━━━━━━━━━━━━━━━━━━━\u001b[0m\u001b[37m\u001b[0m \u001b[1m14s\u001b[0m 254ms/step - accuracy: 0.9980 - loss: 0.0110 - val_accuracy: 1.0000 - val_loss: 0.0080\n",
      "Epoch 18/50\n",
      "\u001b[1m57/57\u001b[0m \u001b[32m━━━━━━━━━━━━━━━━━━━━\u001b[0m\u001b[37m\u001b[0m \u001b[1m0s\u001b[0m 242ms/step - accuracy: 1.0000 - loss: 0.0048\n",
      "Epoch 18: val_accuracy did not improve from 1.00000\n",
      "\u001b[1m57/57\u001b[0m \u001b[32m━━━━━━━━━━━━━━━━━━━━\u001b[0m\u001b[37m\u001b[0m \u001b[1m15s\u001b[0m 257ms/step - accuracy: 1.0000 - loss: 0.0048 - val_accuracy: 1.0000 - val_loss: 0.0047\n",
      "Epoch 19/50\n",
      "\u001b[1m57/57\u001b[0m \u001b[32m━━━━━━━━━━━━━━━━━━━━\u001b[0m\u001b[37m\u001b[0m \u001b[1m0s\u001b[0m 242ms/step - accuracy: 1.0000 - loss: 0.0037\n",
      "Epoch 19: val_accuracy did not improve from 1.00000\n",
      "\u001b[1m57/57\u001b[0m \u001b[32m━━━━━━━━━━━━━━━━━━━━\u001b[0m\u001b[37m\u001b[0m \u001b[1m15s\u001b[0m 257ms/step - accuracy: 1.0000 - loss: 0.0037 - val_accuracy: 1.0000 - val_loss: 0.0021\n",
      "Epoch 20/50\n",
      "\u001b[1m57/57\u001b[0m \u001b[32m━━━━━━━━━━━━━━━━━━━━\u001b[0m\u001b[37m\u001b[0m \u001b[1m0s\u001b[0m 245ms/step - accuracy: 1.0000 - loss: 0.0030\n",
      "Epoch 20: val_accuracy did not improve from 1.00000\n",
      "\u001b[1m57/57\u001b[0m \u001b[32m━━━━━━━━━━━━━━━━━━━━\u001b[0m\u001b[37m\u001b[0m \u001b[1m15s\u001b[0m 258ms/step - accuracy: 1.0000 - loss: 0.0030 - val_accuracy: 1.0000 - val_loss: 0.0024\n",
      "Epoch 21/50\n",
      "\u001b[1m57/57\u001b[0m \u001b[32m━━━━━━━━━━━━━━━━━━━━\u001b[0m\u001b[37m\u001b[0m \u001b[1m0s\u001b[0m 250ms/step - accuracy: 1.0000 - loss: 0.0022\n",
      "Epoch 21: val_accuracy did not improve from 1.00000\n",
      "\u001b[1m57/57\u001b[0m \u001b[32m━━━━━━━━━━━━━━━━━━━━\u001b[0m\u001b[37m\u001b[0m \u001b[1m15s\u001b[0m 264ms/step - accuracy: 1.0000 - loss: 0.0022 - val_accuracy: 1.0000 - val_loss: 0.0012\n",
      "Epoch 22/50\n",
      "\u001b[1m57/57\u001b[0m \u001b[32m━━━━━━━━━━━━━━━━━━━━\u001b[0m\u001b[37m\u001b[0m \u001b[1m0s\u001b[0m 246ms/step - accuracy: 1.0000 - loss: 0.0020\n",
      "Epoch 22: val_accuracy did not improve from 1.00000\n",
      "\u001b[1m57/57\u001b[0m \u001b[32m━━━━━━━━━━━━━━━━━━━━\u001b[0m\u001b[37m\u001b[0m \u001b[1m15s\u001b[0m 261ms/step - accuracy: 1.0000 - loss: 0.0020 - val_accuracy: 1.0000 - val_loss: 0.0104\n",
      "Epoch 23/50\n",
      "\u001b[1m57/57\u001b[0m \u001b[32m━━━━━━━━━━━━━━━━━━━━\u001b[0m\u001b[37m\u001b[0m \u001b[1m0s\u001b[0m 245ms/step - accuracy: 1.0000 - loss: 0.0020\n",
      "Epoch 23: val_accuracy did not improve from 1.00000\n",
      "\u001b[1m57/57\u001b[0m \u001b[32m━━━━━━━━━━━━━━━━━━━━\u001b[0m\u001b[37m\u001b[0m \u001b[1m15s\u001b[0m 259ms/step - accuracy: 1.0000 - loss: 0.0020 - val_accuracy: 1.0000 - val_loss: 0.0012\n",
      "Epoch 24/50\n",
      "\u001b[1m57/57\u001b[0m \u001b[32m━━━━━━━━━━━━━━━━━━━━\u001b[0m\u001b[37m\u001b[0m \u001b[1m0s\u001b[0m 249ms/step - accuracy: 1.0000 - loss: 0.0014\n",
      "Epoch 24: val_accuracy did not improve from 1.00000\n",
      "\u001b[1m57/57\u001b[0m \u001b[32m━━━━━━━━━━━━━━━━━━━━\u001b[0m\u001b[37m\u001b[0m \u001b[1m15s\u001b[0m 264ms/step - accuracy: 1.0000 - loss: 0.0014 - val_accuracy: 1.0000 - val_loss: 9.3818e-04\n",
      "Epoch 25/50\n",
      "\u001b[1m57/57\u001b[0m \u001b[32m━━━━━━━━━━━━━━━━━━━━\u001b[0m\u001b[37m\u001b[0m \u001b[1m0s\u001b[0m 243ms/step - accuracy: 1.0000 - loss: 0.0015\n",
      "Epoch 25: val_accuracy did not improve from 1.00000\n",
      "\u001b[1m57/57\u001b[0m \u001b[32m━━━━━━━━━━━━━━━━━━━━\u001b[0m\u001b[37m\u001b[0m \u001b[1m15s\u001b[0m 256ms/step - accuracy: 1.0000 - loss: 0.0015 - val_accuracy: 1.0000 - val_loss: 8.2566e-04\n",
      "Epoch 26/50\n",
      "\u001b[1m57/57\u001b[0m \u001b[32m━━━━━━━━━━━━━━━━━━━━\u001b[0m\u001b[37m\u001b[0m \u001b[1m0s\u001b[0m 246ms/step - accuracy: 1.0000 - loss: 0.0011\n",
      "Epoch 26: val_accuracy did not improve from 1.00000\n",
      "\u001b[1m57/57\u001b[0m \u001b[32m━━━━━━━━━━━━━━━━━━━━\u001b[0m\u001b[37m\u001b[0m \u001b[1m15s\u001b[0m 261ms/step - accuracy: 1.0000 - loss: 0.0011 - val_accuracy: 1.0000 - val_loss: 7.3365e-04\n",
      "Epoch 27/50\n",
      "\u001b[1m57/57\u001b[0m \u001b[32m━━━━━━━━━━━━━━━━━━━━\u001b[0m\u001b[37m\u001b[0m \u001b[1m0s\u001b[0m 253ms/step - accuracy: 1.0000 - loss: 9.3913e-04\n",
      "Epoch 27: val_accuracy did not improve from 1.00000\n",
      "\u001b[1m57/57\u001b[0m \u001b[32m━━━━━━━━━━━━━━━━━━━━\u001b[0m\u001b[37m\u001b[0m \u001b[1m15s\u001b[0m 268ms/step - accuracy: 1.0000 - loss: 9.3975e-04 - val_accuracy: 1.0000 - val_loss: 6.9467e-04\n",
      "Epoch 27: early stopping\n",
      "Restoring model weights from the end of the best epoch: 17.\n"
     ]
    }
   ],
   "source": [
    "# Step 5B: Train the Model with 2D input (no reshaping)\n",
    "\n",
    "history = model.fit(\n",
    "    X_train, y_train,\n",
    "    validation_data=(X_val, y_val),\n",
    "    epochs=config[\"epochs\"],\n",
    "    batch_size=config[\"batch_size\"],\n",
    "    callbacks=callbacks,\n",
    "    verbose=1\n",
    ")\n"
   ]
  },
  {
   "cell_type": "markdown",
   "id": "5dcbb09f",
   "metadata": {},
   "source": [
    "### Visualizing Training Performance"
   ]
  },
  {
   "cell_type": "markdown",
   "id": "488da103",
   "metadata": {},
   "source": [
    "- Training vs Validation Accuracy\n",
    "- Training vs Validation Loss\n",
    "\n",
    "This will help in verifying \n",
    "- If the model is overfitting.\n",
    "- How many epochs were effective.\n",
    "- Whether early stopping was triggered appropriately."
   ]
  },
  {
   "cell_type": "code",
   "execution_count": 87,
   "id": "2f1cdab4",
   "metadata": {},
   "outputs": [
    {
     "data": {
      "image/png": "[encoded data removed]",
      "text/plain": [
       "<Figure size 1400x500 with 2 Axes>"
      ]
     },
     "metadata": {},
     "output_type": "display_data"
    }
   ],
   "source": [
    "# Step 6A: Plot Training Accuracy and Loss\n",
    "\n",
    "def plot_training_history(history):\n",
    "    acc = history.history['accuracy']\n",
    "    val_acc = history.history['val_accuracy']\n",
    "    loss = history.history['loss']\n",
    "    val_loss = history.history['val_loss']\n",
    "    epochs = range(1, len(acc) + 1)\n",
    "\n",
    "    plt.figure(figsize=(14, 5))\n",
    "\n",
    "    # Accuracy\n",
    "    plt.subplot(1, 2, 1)\n",
    "    plt.plot(epochs, acc, 'b-', label='Training Accuracy')\n",
    "    plt.plot(epochs, val_acc, 'r-', label='Validation Accuracy')\n",
    "    plt.title('Accuracy over Epochs')\n",
    "    plt.xlabel('Epochs')\n",
    "    plt.ylabel('Accuracy')\n",
    "    plt.legend()\n",
    "\n",
    "    # Loss\n",
    "    plt.subplot(1, 2, 2)\n",
    "    plt.plot(epochs, loss, 'b-', label='Training Loss')\n",
    "    plt.plot(epochs, val_loss, 'r-', label='Validation Loss')\n",
    "    plt.title('Loss over Epochs')\n",
    "    plt.xlabel('Epochs')\n",
    "    plt.ylabel('Loss')\n",
    "    plt.legend()\n",
    "\n",
    "    plt.tight_layout()\n",
    "    plt.show()\n",
    "\n",
    "plot_training_history(history)\n"
   ]
  },
  {
   "cell_type": "markdown",
   "id": "c1f086d1",
   "metadata": {},
   "source": [
    "### Loading a Model from History"
   ]
  },
  {
   "cell_type": "code",
   "execution_count": null,
   "id": "98c08d81",
   "metadata": {},
   "outputs": [],
   "source": [
    "# Reload history from CSV if needed\n",
    "import pandas as pd\n",
    "\n",
    "history_df = pd.read_csv(config[\"history_log\"])\n",
    "history_from_csv = {\n",
    "    'accuracy': history_df['accuracy'].values,\n",
    "    'val_accuracy': history_df['val_accuracy'].values,\n",
    "    'loss': history_df['loss'].values,\n",
    "    'val_loss': history_df['val_loss'].values\n",
    "}\n",
    "\n",
    "# Simulate a Keras History object\n",
    "class FakeHistory:\n",
    "    def __init__(self, history_dict):\n",
    "        self.history = history_dict\n",
    "\n",
    "plot_training_history(FakeHistory(history_from_csv))"
   ]
  },
  {
   "cell_type": "markdown",
   "id": "f970028a",
   "metadata": {},
   "source": [
    "### Evaluation and Testing\n",
    "\n",
    "- Load the best model.\n",
    "- Preprocess and pad the test data.\n",
    "- Evaluate accuracy, precision, recall.\n",
    "- Show a confusion matrix and classification report."
   ]
  },
  {
   "cell_type": "markdown",
   "id": "d9da2235",
   "metadata": {},
   "source": [
    "#### Pre-processing the Test Dataset"
   ]
  },
  {
   "cell_type": "code",
   "execution_count": 88,
   "id": "83b00a0d",
   "metadata": {},
   "outputs": [
    {
     "name": "stderr",
     "output_type": "stream",
     "text": [
      "Processing bach: 100%|██████████| 5/5 [00:00<00:00, 39.86it/s]\n",
      "Processing bartok: 100%|██████████| 5/5 [00:00<00:00, 74.23it/s]\n",
      "Processing byrd: 100%|██████████| 5/5 [00:00<00:00, 108.98it/s]\n",
      "Processing chopin:   0%|          | 0/5 [00:00<?, ?it/s]/Users/falasoul/.pyenv/versions/3.10.13/lib/python3.10/site-packages/pretty_midi/pretty_midi.py:100: RuntimeWarning: Tempo, Key or Time signature change events found on non-zero tracks.  This is not a valid type 0 or type 1 MIDI file.  Tempo, Key or Time Signature may be wrong.\n",
      "  warnings.warn(\n",
      "Processing chopin: 100%|██████████| 5/5 [00:00<00:00, 49.24it/s]\n",
      "Processing handel: 100%|██████████| 5/5 [00:00<00:00, 40.17it/s]\n",
      "Processing hummel: 100%|██████████| 5/5 [00:00<00:00, 20.44it/s]\n",
      "Processing mendelssohn: 100%|██████████| 5/5 [00:00<00:00, 25.23it/s]\n",
      "Processing mozart: 100%|██████████| 5/5 [00:00<00:00, 34.62it/s]\n",
      "Processing schumann: 100%|██████████| 4/4 [00:00<00:00, 48.86it/s]"
     ]
    },
    {
     "name": "stdout",
     "output_type": "stream",
     "text": [
      "Test shape: (35, 1500, 3), Labels: 9\n"
     ]
    },
    {
     "name": "stderr",
     "output_type": "stream",
     "text": [
      "\n"
     ]
    }
   ],
   "source": [
    "# Step 7A: Preprocess Test Data (pitch + duration)\n",
    "\n",
    "# Use the pairwise loader (same as training)\n",
    "test_sequences, test_labels = collect_dataset_triplet(TEST_DIR, augment=False)\n",
    "\n",
    "# Pad to fixed sequence length\n",
    "X_test = pad_sequences(test_sequences, maxlen=config[\"sequence_length\"], padding='post', truncating='post', dtype='float32')\n",
    "\n",
    "# Normalize all 3 features\n",
    "X_test[:, :, 0] = X_test[:, :, 0] / 127.0               # pitch\n",
    "X_test[:, :, 1] = np.clip(X_test[:, :, 1], 0, 5) / 5.0  # duration\n",
    "X_test[:, :, 2] = X_test[:, :, 2] / 127.0               # velocity\n",
    "\n",
    "# Encode labels using same label encoder\n",
    "y_test = label_encoder.transform(test_labels)\n",
    "\n",
    "print(f\"Test shape: {X_test.shape}, Labels: {len(set(test_labels))}\")\n"
   ]
  },
  {
   "cell_type": "markdown",
   "id": "d2aafab2",
   "metadata": {},
   "source": [
    "#### Loading Best Model and Prediction"
   ]
  },
  {
   "cell_type": "code",
   "execution_count": 89,
   "id": "5fc8d44d",
   "metadata": {},
   "outputs": [
    {
     "name": "stderr",
     "output_type": "stream",
     "text": [
      "WARNING:absl:Compiled the loaded model, but the compiled metrics have yet to be built. `model.compile_metrics` will be empty until you train or evaluate the model.\n"
     ]
    },
    {
     "name": "stdout",
     "output_type": "stream",
     "text": [
      "\u001b[1m2/2\u001b[0m \u001b[32m━━━━━━━━━━━━━━━━━━━━\u001b[0m\u001b[37m\u001b[0m \u001b[1m0s\u001b[0m 167ms/step\n"
     ]
    }
   ],
   "source": [
    "# Step 7B: Load Best Model and Predict (pitch + duration)\n",
    "\n",
    "best_model = tf.keras.models.load_model(config[\"checkpoint_path\"])\n",
    "\n",
    "# Use X_test as-is — already (samples, sequence_length, 2)\n",
    "y_pred_probs = best_model.predict(X_test)\n",
    "y_pred = np.argmax(y_pred_probs, axis=1)"
   ]
  },
  {
   "cell_type": "markdown",
   "id": "59a27da3",
   "metadata": {},
   "source": [
    "#### Classification Report and Confusion Matrix"
   ]
  },
  {
   "cell_type": "code",
   "execution_count": 90,
   "id": "bc3b4e85",
   "metadata": {},
   "outputs": [
    {
     "name": "stdout",
     "output_type": "stream",
     "text": [
      "🔍 Classification Report:\n",
      "              precision    recall  f1-score   support\n",
      "\n",
      "        bach       1.00      1.00      1.00         4\n",
      "      bartok       1.00      0.75      0.86         4\n",
      "        byrd       1.00      1.00      1.00         4\n",
      "      chopin       0.67      0.50      0.57         4\n",
      "      handel       0.67      0.50      0.57         4\n",
      "      hummel       0.80      1.00      0.89         4\n",
      " mendelssohn       0.50      0.50      0.50         4\n",
      "      mozart       0.80      1.00      0.89         4\n",
      "    schumann       0.25      0.33      0.29         3\n",
      "\n",
      "    accuracy                           0.74        35\n",
      "   macro avg       0.74      0.73      0.73        35\n",
      "weighted avg       0.76      0.74      0.74        35\n",
      "\n"
     ]
    },
    {
     "data": {
      "image/png": "[encoded data removed]",
      "text/plain": [
       "<Figure size 1000x800 with 2 Axes>"
      ]
     },
     "metadata": {},
     "output_type": "display_data"
    }
   ],
   "source": [
    "# Step 7C: Evaluate Model Performance\n",
    "\n",
    "from sklearn.metrics import classification_report, confusion_matrix\n",
    "import seaborn as sns\n",
    "\n",
    "# Classification report\n",
    "print(\"🔍 Classification Report:\")\n",
    "print(classification_report(y_test, y_pred, target_names=label_encoder.classes_))\n",
    "\n",
    "# Confusion matrix\n",
    "conf_matrix = confusion_matrix(y_test, y_pred)\n",
    "plt.figure(figsize=(10, 8))\n",
    "sns.heatmap(conf_matrix, annot=True, fmt='d', xticklabels=label_encoder.classes_, yticklabels=label_encoder.classes_, cmap=\"Blues\")\n",
    "plt.title(\"Confusion Matrix\")\n",
    "plt.xlabel(\"Predicted\")\n",
    "plt.ylabel(\"True\")\n",
    "plt.show()\n"
   ]
  },
  {
   "cell_type": "markdown",
   "id": "0d7b7260",
   "metadata": {},
   "source": [
    "### Data Augmentation via Pitch Transposition"
   ]
  },
  {
   "cell_type": "markdown",
   "id": "fe86b1e3",
   "metadata": {},
   "source": [
    "We’ll augment each training MIDI file by shifting its note pitches up/down by a few semitones. This helps the model focus on composer style, not just pitch range.\n",
    "\n"
   ]
  }
 ],
 "metadata": {
  "kernelspec": {
   "display_name": "3.10.13",
   "language": "python",
   "name": "python3"
  },
  "language_info": {
   "codemirror_mode": {
    "name": "ipython",
    "version": 3
   },
   "file_extension": ".py",
   "mimetype": "text/x-python",
   "name": "python",
   "nbconvert_exporter": "python",
   "pygments_lexer": "ipython3",
   "version": "3.10.13"
  }
 },
 "nbformat": 4,
 "nbformat_minor": 5
}
