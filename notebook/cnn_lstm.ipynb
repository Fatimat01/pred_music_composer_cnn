{
 "cells": [
  {
   "cell_type": "code",
   "execution_count": null,
   "id": "739eadd5",
   "metadata": {},
   "outputs": [],
   "source": [
    "import os\n",
    "import numpy as np\n",
    "import tensorflow as tf\n",
    "from collections import defaultdict\n",
    "from music21 import converter, note, chord\n",
    "from tensorflow.keras.models import Sequential\n",
    "from tensorflow.keras.layers import Embedding, LSTM, Dense, Conv1D, MaxPooling1D, Flatten\n",
    "from sklearn.metrics import classification_report\n",
    "import keras_tuner as kt\n",
    "\n",
    "import warnings\n",
    "warnings.filterwarnings('ignore')\n",
    "\n",
    "# random seeds for reproducibility\n",
    "np.random.seed(42)\n",
    "tf.random.set_seed(42)\n"
   ]
  },
  {
   "cell_type": "markdown",
   "id": "98670b68",
   "metadata": {},
   "source": [
    "## Data Pre-processing"
   ]
  },
  {
   "cell_type": "code",
   "execution_count": 4,
   "id": "5a0992fc",
   "metadata": {},
   "outputs": [
    {
     "name": "stdout",
     "output_type": "stream",
     "text": [
      "Total MIDI files: 439\n",
      "Composers: ['mozart', 'chopin', 'handel', 'byrd', 'schumann', 'mendelssohn', 'hummel', 'bach', 'bartok']\n",
      "Files per composer:\n",
      "   - mozart: 49\n",
      "   - chopin: 49\n",
      "   - handel: 49\n",
      "   - byrd: 50\n",
      "   - schumann: 44\n",
      "   - mendelssohn: 49\n",
      "   - hummel: 50\n",
      "   - bach: 50\n",
      "   - bartok: 49\n"
     ]
    }
   ],
   "source": [
    "dataset_root = '../Composer_Dataset/NN_midi_files_extended'\n",
    "splits = ['train', 'dev', 'test']\n",
    "\n",
    "# Inspect dataset\n",
    "composer_counts = defaultdict(int)\n",
    "total_files = 0\n",
    "\n",
    "for split in splits:\n",
    "    split_path = os.path.join(dataset_root, split)\n",
    "    for composer in os.listdir(split_path):\n",
    "        composer_dir = os.path.join(split_path, composer)\n",
    "        if os.path.isdir(composer_dir):\n",
    "            count = len([f for f in os.listdir(composer_dir) if f.endswith('.mid')])\n",
    "            composer_counts[composer] += count\n",
    "            total_files += count\n",
    "\n",
    "print(f\"Total MIDI files: {total_files}\")\n",
    "print(f\"Composers: {list(composer_counts.keys())}\")\n",
    "print(\"Files per composer:\")\n",
    "for composer, count in composer_counts.items():\n",
    "    print(f\"   - {composer}: {count}\")"
   ]
  },
  {
   "cell_type": "markdown",
   "id": "a1d72937",
   "metadata": {},
   "source": [
    "## Feature Extraction"
   ]
  },
  {
   "cell_type": "code",
   "execution_count": 5,
   "id": "de3c4564",
   "metadata": {},
   "outputs": [
    {
     "name": "stdout",
     "output_type": "stream",
     "text": [
      "Extracted 439 sequences with labels.\n"
     ]
    }
   ],
   "source": [
    "def extract_sequence(midi_path):\n",
    "    midi = converter.parse(midi_path)\n",
    "    sequence = []\n",
    "    for el in midi.flat.notes:\n",
    "        if isinstance(el, note.Note):\n",
    "            sequence.append(str(el.pitch))\n",
    "        elif isinstance(el, chord.Chord):\n",
    "            sequence.append('.'.join(str(n) for n in el.normalOrder))\n",
    "    return sequence\n",
    "\n",
    "X = []\n",
    "y = []\n",
    "\n",
    "for split in splits:\n",
    "    split_path = os.path.join(dataset_root, split)\n",
    "    for composer in os.listdir(split_path):\n",
    "        composer_dir = os.path.join(split_path, composer)\n",
    "        if os.path.isdir(composer_dir):\n",
    "            for fname in os.listdir(composer_dir):\n",
    "                if fname.endswith('.mid'):\n",
    "                    path = os.path.join(composer_dir, fname)\n",
    "                    seq = extract_sequence(path)\n",
    "                    X.append(seq)\n",
    "                    y.append(composer)\n",
    "\n",
    "print(f\"Extracted {len(X)} sequences with labels.\")"
   ]
  },
  {
   "cell_type": "markdown",
   "id": "f3cca2ba",
   "metadata": {},
   "source": [
    "## Model Building"
   ]
  },
  {
   "cell_type": "code",
   "execution_count": null,
   "id": "df07514d",
   "metadata": {},
   "outputs": [],
   "source": [
    "\n",
    "input_dim = 200 \n",
    "output_dim = len(set(y))  # number of composers\n",
    "seq_length = 60  # \n",
    "\n",
    "def build_lstm():\n",
    "    model = Sequential([\n",
    "        Embedding(input_dim=input_dim, output_dim=128, input_length=seq_length),\n",
    "        LSTM(128, return_sequences=True),\n",
    "        LSTM(64),\n",
    "        Dense(64, activation='relu'),\n",
    "        Dense(output_dim, activation='softmax')\n",
    "    ])\n",
    "    model.compile(optimizer='adam', loss='categorical_crossentropy', metrics=['accuracy'])\n",
    "    return model\n",
    "\n",
    "def build_cnn():\n",
    "    model = Sequential([\n",
    "        Embedding(input_dim=input_dim, output_dim=128, input_length=seq_length),\n",
    "        Conv1D(64, 3, activation='relu'),\n",
    "        MaxPooling1D(2),\n",
    "        Conv1D(128, 3, activation='relu'),\n",
    "        MaxPooling1D(2),\n",
    "        Flatten(),\n",
    "        Dense(64, activation='relu'),\n",
    "        Dense(output_dim, activation='softmax')\n",
    "    ])\n",
    "    model.compile(optimizer='adam', loss='categorical_crossentropy', metrics=['accuracy'])\n",
    "    return model"
   ]
  },
  {
   "cell_type": "markdown",
   "id": "81329558",
   "metadata": {},
   "source": [
    "## Model Training"
   ]
  },
  {
   "cell_type": "code",
   "execution_count": null,
   "id": "ae034b5b",
   "metadata": {},
   "outputs": [],
   "source": [
    "history = lstm_model.fit(X_train, y_train, epochs=50, batch_size=64, validation_data=(X_val, y_val))"
   ]
  },
  {
   "cell_type": "markdown",
   "id": "19174f25",
   "metadata": {},
   "source": [
    "## Model Evaluation"
   ]
  },
  {
   "cell_type": "code",
   "execution_count": null,
   "id": "9cad0c48",
   "metadata": {},
   "outputs": [],
   "source": [
    "\n",
    "y_pred = model.predict(X_test).argmax(axis=1)\n",
    "print(classification_report(y_test, y_pred, target_names=list(set(y))))"
   ]
  },
  {
   "cell_type": "markdown",
   "id": "2015675c",
   "metadata": {},
   "source": [
    "## Model Optimization"
   ]
  },
  {
   "cell_type": "code",
   "execution_count": null,
   "id": "6241e6e9",
   "metadata": {},
   "outputs": [],
   "source": [
    "\n",
    "\n",
    "def build_tuned_model(hp):\n",
    "    model = Sequential()\n",
    "    model.add(Embedding(input_dim=input_dim, output_dim=128, input_length=seq_length))\n",
    "    model.add(LSTM(hp.Int('units', 64, 256, step=64)))\n",
    "    model.add(Dense(output_dim, activation='softmax'))\n",
    "    model.compile(optimizer='adam', loss='categorical_crossentropy', metrics=['accuracy'])\n",
    "    return model\n",
    "\n",
    "tuner = kt.Hyperband(build_tuned_model, objective='val_accuracy', max_epochs=20, directory='tuner_dir')\n",
    "tuner.search(X_train, y_train, epochs=50, validation_data=(X_val, y_val))"
   ]
  }
 ],
 "metadata": {
  "kernelspec": {
   "display_name": "project_env",
   "language": "python",
   "name": "project_env"
  },
  "language_info": {
   "codemirror_mode": {
    "name": "ipython",
    "version": 3
   },
   "file_extension": ".py",
   "mimetype": "text/x-python",
   "name": "python",
   "nbconvert_exporter": "python",
   "pygments_lexer": "ipython3",
   "version": "3.11.11"
  }
 },
 "nbformat": 4,
 "nbformat_minor": 5
}
